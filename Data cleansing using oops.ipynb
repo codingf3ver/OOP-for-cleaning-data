{
 "cells": [
  {
   "cell_type": "code",
   "execution_count": 27,
   "metadata": {},
   "outputs": [],
   "source": [
    "import dataset"
   ]
  },
  {
   "cell_type": "code",
   "execution_count": 30,
   "metadata": {},
   "outputs": [
    {
     "data": {
      "text/html": [
       "<div>\n",
       "<style scoped>\n",
       "    .dataframe tbody tr th:only-of-type {\n",
       "        vertical-align: middle;\n",
       "    }\n",
       "\n",
       "    .dataframe tbody tr th {\n",
       "        vertical-align: top;\n",
       "    }\n",
       "\n",
       "    .dataframe thead th {\n",
       "        text-align: right;\n",
       "    }\n",
       "</style>\n",
       "<table border=\"1\" class=\"dataframe\">\n",
       "  <thead>\n",
       "    <tr style=\"text-align: right;\">\n",
       "      <th></th>\n",
       "      <th>Item_Identifier</th>\n",
       "      <th>Item_Weight</th>\n",
       "      <th>Item_Fat_Content</th>\n",
       "      <th>Item_Visibility</th>\n",
       "      <th>Item_Type</th>\n",
       "      <th>Item_MRP</th>\n",
       "      <th>Outlet_Identifier</th>\n",
       "      <th>Outlet_Establishment_Year</th>\n",
       "      <th>Outlet_Size</th>\n",
       "      <th>Outlet_Location_Type</th>\n",
       "      <th>Outlet_Type</th>\n",
       "      <th>Item_Outlet_Sales</th>\n",
       "    </tr>\n",
       "  </thead>\n",
       "  <tbody>\n",
       "    <tr>\n",
       "      <th>0</th>\n",
       "      <td>FDA15</td>\n",
       "      <td>9.30</td>\n",
       "      <td>Low Fat</td>\n",
       "      <td>0.016047</td>\n",
       "      <td>Dairy</td>\n",
       "      <td>249.8092</td>\n",
       "      <td>OUT049</td>\n",
       "      <td>1999</td>\n",
       "      <td>Medium</td>\n",
       "      <td>Tier 1</td>\n",
       "      <td>Supermarket Type1</td>\n",
       "      <td>3735.1380</td>\n",
       "    </tr>\n",
       "    <tr>\n",
       "      <th>1</th>\n",
       "      <td>DRC01</td>\n",
       "      <td>5.92</td>\n",
       "      <td>Regular</td>\n",
       "      <td>0.019278</td>\n",
       "      <td>Soft Drinks</td>\n",
       "      <td>48.2692</td>\n",
       "      <td>OUT018</td>\n",
       "      <td>2009</td>\n",
       "      <td>Medium</td>\n",
       "      <td>Tier 3</td>\n",
       "      <td>Supermarket Type2</td>\n",
       "      <td>443.4228</td>\n",
       "    </tr>\n",
       "    <tr>\n",
       "      <th>2</th>\n",
       "      <td>FDN15</td>\n",
       "      <td>17.50</td>\n",
       "      <td>Low Fat</td>\n",
       "      <td>0.016760</td>\n",
       "      <td>Meat</td>\n",
       "      <td>141.6180</td>\n",
       "      <td>OUT049</td>\n",
       "      <td>1999</td>\n",
       "      <td>Medium</td>\n",
       "      <td>Tier 1</td>\n",
       "      <td>Supermarket Type1</td>\n",
       "      <td>2097.2700</td>\n",
       "    </tr>\n",
       "  </tbody>\n",
       "</table>\n",
       "</div>"
      ],
      "text/plain": [
       "  Item_Identifier  Item_Weight Item_Fat_Content  Item_Visibility    Item_Type  \\\n",
       "0           FDA15         9.30          Low Fat         0.016047        Dairy   \n",
       "1           DRC01         5.92          Regular         0.019278  Soft Drinks   \n",
       "2           FDN15        17.50          Low Fat         0.016760         Meat   \n",
       "\n",
       "   Item_MRP Outlet_Identifier  Outlet_Establishment_Year Outlet_Size  \\\n",
       "0  249.8092            OUT049                       1999      Medium   \n",
       "1   48.2692            OUT018                       2009      Medium   \n",
       "2  141.6180            OUT049                       1999      Medium   \n",
       "\n",
       "  Outlet_Location_Type        Outlet_Type  Item_Outlet_Sales  \n",
       "0               Tier 1  Supermarket Type1          3735.1380  \n",
       "1               Tier 3  Supermarket Type2           443.4228  \n",
       "2               Tier 1  Supermarket Type1          2097.2700  "
      ]
     },
     "execution_count": 30,
     "metadata": {},
     "output_type": "execute_result"
    }
   ],
   "source": [
    "train =  dataset.TRAIN_DATA\n",
    "train.head(3)"
   ]
  },
  {
   "cell_type": "code",
   "execution_count": 38,
   "metadata": {},
   "outputs": [
    {
     "data": {
      "text/html": [
       "<div>\n",
       "<style scoped>\n",
       "    .dataframe tbody tr th:only-of-type {\n",
       "        vertical-align: middle;\n",
       "    }\n",
       "\n",
       "    .dataframe tbody tr th {\n",
       "        vertical-align: top;\n",
       "    }\n",
       "\n",
       "    .dataframe thead th {\n",
       "        text-align: right;\n",
       "    }\n",
       "</style>\n",
       "<table border=\"1\" class=\"dataframe\">\n",
       "  <thead>\n",
       "    <tr style=\"text-align: right;\">\n",
       "      <th></th>\n",
       "      <th>Item_Identifier</th>\n",
       "      <th>Item_Weight</th>\n",
       "      <th>Item_Fat_Content</th>\n",
       "      <th>Item_Visibility</th>\n",
       "      <th>Item_Type</th>\n",
       "      <th>Item_MRP</th>\n",
       "      <th>Outlet_Identifier</th>\n",
       "      <th>Outlet_Establishment_Year</th>\n",
       "      <th>Outlet_Size</th>\n",
       "      <th>Outlet_Location_Type</th>\n",
       "      <th>Outlet_Type</th>\n",
       "    </tr>\n",
       "  </thead>\n",
       "  <tbody>\n",
       "    <tr>\n",
       "      <th>0</th>\n",
       "      <td>FDW58</td>\n",
       "      <td>20.75</td>\n",
       "      <td>Low Fat</td>\n",
       "      <td>0.007565</td>\n",
       "      <td>Snack Foods</td>\n",
       "      <td>107.8622</td>\n",
       "      <td>OUT049</td>\n",
       "      <td>1999</td>\n",
       "      <td>Medium</td>\n",
       "      <td>Tier 1</td>\n",
       "      <td>Supermarket Type1</td>\n",
       "    </tr>\n",
       "    <tr>\n",
       "      <th>1</th>\n",
       "      <td>FDW14</td>\n",
       "      <td>8.30</td>\n",
       "      <td>reg</td>\n",
       "      <td>0.038428</td>\n",
       "      <td>Dairy</td>\n",
       "      <td>87.3198</td>\n",
       "      <td>OUT017</td>\n",
       "      <td>2007</td>\n",
       "      <td>NaN</td>\n",
       "      <td>Tier 2</td>\n",
       "      <td>Supermarket Type1</td>\n",
       "    </tr>\n",
       "    <tr>\n",
       "      <th>2</th>\n",
       "      <td>NCN55</td>\n",
       "      <td>14.60</td>\n",
       "      <td>Low Fat</td>\n",
       "      <td>0.099575</td>\n",
       "      <td>Others</td>\n",
       "      <td>241.7538</td>\n",
       "      <td>OUT010</td>\n",
       "      <td>1998</td>\n",
       "      <td>NaN</td>\n",
       "      <td>Tier 3</td>\n",
       "      <td>Grocery Store</td>\n",
       "    </tr>\n",
       "  </tbody>\n",
       "</table>\n",
       "</div>"
      ],
      "text/plain": [
       "  Item_Identifier  Item_Weight Item_Fat_Content  Item_Visibility    Item_Type  \\\n",
       "0           FDW58        20.75          Low Fat         0.007565  Snack Foods   \n",
       "1           FDW14         8.30              reg         0.038428        Dairy   \n",
       "2           NCN55        14.60          Low Fat         0.099575       Others   \n",
       "\n",
       "   Item_MRP Outlet_Identifier  Outlet_Establishment_Year Outlet_Size  \\\n",
       "0  107.8622            OUT049                       1999      Medium   \n",
       "1   87.3198            OUT017                       2007         NaN   \n",
       "2  241.7538            OUT010                       1998         NaN   \n",
       "\n",
       "  Outlet_Location_Type        Outlet_Type  \n",
       "0               Tier 1  Supermarket Type1  \n",
       "1               Tier 2  Supermarket Type1  \n",
       "2               Tier 3      Grocery Store  "
      ]
     },
     "execution_count": 38,
     "metadata": {},
     "output_type": "execute_result"
    }
   ],
   "source": [
    "test = dataset.TEST_DATA\n",
    "test.head(3)"
   ]
  },
  {
   "cell_type": "code",
   "execution_count": 63,
   "metadata": {},
   "outputs": [],
   "source": [
    "class DataInfo:\n",
    "    \n",
    "    def __init__(self,df):\n",
    "        self.df = df\n",
    "        \n",
    "    def info(self):\n",
    "        \n",
    "        count_rows =  len(self.df)  #Counting no fo rows\n",
    "        print(f'\\nTotal Rows : {count_rows} \\n')\n",
    "        \n",
    "        column_name =  self.df.columns # Extracting column names\n",
    "        print(f'Column Names : {column_name} \\n')\n",
    "        \n",
    "        print(f'Data Summary :  \\n\\n')\n",
    "        data_summary = self.df.info() # Summary of data\n",
    "        print('--'*15)\n",
    "        \n",
    "        \n",
    "        null_values = self.df.isnull().sum() # Total null values by each categories\n",
    "        print(f'\\nNull values : {null_values}  \\n ')\n",
    "        \n",
    "        \n",
    "    def uniqueCategory(self):\n",
    "        \n",
    "        for i in self.df.columns: #\n",
    "            \n",
    "            if self.df[i].dtype == 'O': # Columns having datatype object or categories in each column\n",
    "                \n",
    "                unique_category = set(self.df.loc[: , i]) # Unique categories in each columns\n",
    "                print(f'{i} --> {unique_category}\\n') "
   ]
  },
  {
   "cell_type": "code",
   "execution_count": null,
   "metadata": {},
   "outputs": [],
   "source": [
    "class DataWrangling:\n",
    "    \n",
    "    def __init__(self , df):\n",
    "    self.df = df \n",
    "    \n",
    "    def cleaning(self):\n",
    "        \n",
    "        # Extracting only two abbreviates and tranforming with corresponding item name\n",
    "        item_mapping = {'FD': 'Food',\n",
    "                   'DR': 'Drugs',\n",
    "                   'NC': 'Narcotics'}  \n",
    "        self.df['Food Types'] = self.df['Item_Identifier'].apply(lambda x  : x[:2]).map(item_mapping)\n",
    "        \n",
    "        # dropping utilised column \n",
    "        self.df.drop('Item_Identifier' ,inplace= True ,axis=1) \n",
    "        \n",
    "        \n",
    "        # Mapping food contents\n",
    "        fat_cont_mapping = {'LF' : 'Low Fat',  \n",
    "                            'low fat' : 'Low Fat', \n",
    "                            'reg' : 'Regular'}\n",
    "        \n",
    "        self.df['Item_Fat_Content'] = self.df['Item_Fat_Content'].map(fat_cont_mapping) \n",
    "        \n",
    "    \n",
    "    \n",
    "    "
   ]
  },
  {
   "cell_type": "code",
   "execution_count": 87,
   "metadata": {},
   "outputs": [],
   "source": []
  },
  {
   "cell_type": "code",
   "execution_count": 81,
   "metadata": {
    "scrolled": true
   },
   "outputs": [
    {
     "name": "stdout",
     "output_type": "stream",
     "text": [
      "Item_Identifier --> {'FDP24', 'FDD23', 'FDS25', 'FDH14', 'FDT38', 'FDZ52', 'FDR52', 'NCD07', 'FDU49', 'FDW45', 'FDD26', 'FDL48', 'DRI01', 'FDS22', 'NCV30', 'NCJ54', 'FDN32', 'FDB22', 'FDC21', 'FDP57', 'FDK09', 'NCK18', 'FDN22', 'DRG23', 'FDP59', 'NCF55', 'FDZ15', 'FDV14', 'NCK31', 'NCB42', 'NCP06', 'NCT05', 'FDN24', 'FDM16', 'FDG08', 'FDV09', 'NCR50', 'FDH44', 'DRH37', 'FDK46', 'FDU34', 'FDR24', 'FDU03', 'NCP18', 'NCF19', 'FDB15', 'FDL36', 'FDE32', 'FDV46', 'FDN58', 'FDS31', 'FDO08', 'FDG04', 'DRH15', 'FDV51', 'NCZ53', 'FDV45', 'NCF18', 'FDP36', 'FDC60', 'FDY11', 'FDH41', 'FDZ23', 'DRD60', 'FDU51', 'FDD56', 'FDG20', 'FDV23', 'FDC37', 'FDN09', 'FDW39', 'FDV20', 'FDC40', 'FDI20', 'FDT10', 'FDT26', 'FDW07', 'FDA28', 'DRH49', 'FDU31', 'FDA01', 'FDW49', 'NCT29', 'FDB34', 'FDZ35', 'NCV41', 'FDS55', 'FDJ48', 'FDH10', 'FDB52', 'NCG42', 'FDW34', 'FDI33', 'NCN43', 'FDF12', 'DRC01', 'FDE52', 'DRQ35', 'NCQ29', 'FDC05', 'FDZ51', 'NCI30', 'FDW10', 'FDV38', 'NCK42', 'FDZ03', 'FDS10', 'FDX02', 'FDD36', 'FDE17', 'FDN08', 'FDJ38', 'FDB33', 'FDF41', 'FDB28', 'FDA08', 'FDW36', 'NCM07', 'NCQ38', 'DRF49', 'FDR26', 'NCC55', 'FDU01', 'FDZ33', 'FDW56', 'NCN41', 'FDV07', 'FDE51', 'FDT46', 'FDT48', 'FDY02', 'FDC57', 'FDV15', 'DRP35', 'FDN52', 'DRL11', 'NCM55', 'FDQ45', 'FDS57', 'FDV40', 'FDD38', 'FDG58', 'DRG11', 'FDA48', 'NCY29', 'NCK30', 'FDR55', 'FDE38', 'FDP01', 'FDU14', 'FDS07', 'FDY52', 'NCN42', 'NCL41', 'FDQ11', 'FDE59', 'FDN12', 'FDN04', 'DRG49', 'FDB45', 'FDI26', 'DRD49', 'FDY58', 'NCB19', 'FDG31', 'FDG32', 'FDC41', 'FDF14', 'NCJ43', 'FDK55', 'FDN48', 'FDD10', 'FDO21', 'FDU58', 'NCM42', 'FDN28', 'FDO48', 'DRF03', 'FDT15', 'NCA29', 'NCG07', 'FDM40', 'FDY39', 'FDV32', 'DRG25', 'FDX36', 'NCS17', 'FDE50', 'FDP23', 'FDA50', 'DRM48', 'FDI10', 'FDE22', 'FDO27', 'NCO05', 'FDD41', 'DRL01', 'FDC44', 'FDQ03', 'FDM33', 'FDU19', 'FDD34', 'FDW26', 'FDE29', 'FDI46', 'FDQ23', 'NCA53', 'FDU13', 'DRE03', 'NCV29', 'FDB37', 'FDW23', 'FDM25', 'FDI16', 'FDO28', 'FDI07', 'FDL46', 'NCD19', 'FDV12', 'FDL40', 'FDV36', 'FDY37', 'FDY09', 'NCW29', 'FDL44', 'FDF22', 'FDM51', 'FDS21', 'FDA49', 'NCA54', 'FDU37', 'FDR43', 'NCY53', 'FDP46', 'FDF17', 'FDJ58', 'NCO29', 'NCO02', 'FDS56', 'FDZ59', 'FDE16', 'FDF33', 'FDO31', 'NCU06', 'NCD54', 'FDU46', 'FDD17', 'FDO33', 'NCT54', 'DRM47', 'DRG51', 'FDA15', 'FDH34', 'DRI59', 'FDT40', 'NCX05', 'FDR51', 'FDQ15', 'FDH21', 'FDR21', 'FDT33', 'FDH57', 'FDM01', 'FDY14', 'FDT35', 'NCF31', 'NCQ53', 'DRJ13', 'FDE45', 'FDX34', 'NCY06', 'NCM53', 'NCO43', 'FDJ14', 'FDV55', 'NCM31', 'NCX42', 'FDE58', 'FDZ60', 'FDT31', 'FDN60', 'FDB02', 'NCL07', 'FDB14', 'FDV37', 'NCZ18', 'NCC30', 'FDK36', 'DRJ49', 'FDG05', 'FDY16', 'NCJ06', 'FDB11', 'NCN17', 'NCT06', 'FDK14', 'FDU24', 'FDY48', 'FDG33', 'FDS13', 'NCD55', 'FDI27', 'FDJ50', 'FDW12', 'FDS36', 'NCS53', 'FDP03', 'NCG55', 'NCB54', 'FDU10', 'FDS40', 'FDA34', 'FDA04', 'FDW50', 'FDS59', 'FDM13', 'FDZ16', 'FDY26', 'FDW37', 'NCE31', 'NCP05', 'FDH40', 'FDG57', 'FDJ12', 'NCS42', 'FDF32', 'FDO34', 'DRM37', 'FDC59', 'NCF54', 'NCM06', 'FDT21', 'FDP34', 'FDG45', 'DRZ24', 'FDB17', 'FDR04', 'FDS19', 'FDX44', 'FDN33', 'FDD16', 'FDF44', 'NCR17', 'FDZ47', 'FDM02', 'FDU28', 'NCT17', 'FDR44', 'NCU18', 'FDG29', 'NCQ30', 'FDS45', 'FDO52', 'FDK27', 'FDN34', 'FDR13', 'NCA17', 'FDY57', 'FDL45', 'FDC33', 'FDH45', 'FDJ22', 'FDH16', 'FDJ33', 'DRI23', 'DRA59', 'FDG38', 'FDQ04', 'FDP09', 'FDS01', 'FDY55', 'FDI38', 'FDW22', 'FDO10', 'FDG28', 'FDR58', 'FDE53', 'DRD37', 'DRJ23', 'FDB35', 'FDS04', 'FDA43', 'FDH05', 'FDU59', 'FDS34', 'FDD02', 'FDP40', 'NCN14', 'NCS41', 'FDU36', 'FDA47', 'FDG56', 'FDW40', 'FDB39', 'FDY03', 'FDH53', 'NCN53', 'DRM23', 'FDW14', 'FDR20', 'NCS18', 'FDI02', 'DRI47', 'DRE15', 'FDF29', 'FDB56', 'DRJ35', 'FDA25', 'NCQ18', 'NCK17', 'FDU07', 'FDC53', 'NCI06', 'FDY04', 'NCZ17', 'FDG40', 'DRC24', 'FDQ21', 'FDZ36', 'FDU38', 'NCV18', 'FDG02', 'FDM52', 'FDE57', 'FDJ27', 'FDG53', 'FDA23', 'FDX12', 'FDH35', 'FDI04', 'FDD53', 'NCP50', 'FDJ08', 'NCE54', 'FDO01', 'FDW08', 'NCG19', 'NCW54', 'NCZ29', 'FDP04', 'FDZ31', 'FDK44', 'FDM12', 'FDI19', 'FDZ34', 'FDU33', 'FDJ53', 'FDQ19', 'FDG26', 'DRG39', 'FDV50', 'FDZ39', 'NCH29', 'FDP13', 'FDK24', 'FDK03', 'NCO18', 'FDN38', 'DRF37', 'NCV42', 'DRL47', 'FDI12', 'FDD03', 'FDW52', 'FDY27', 'FDY47', 'FDX38', 'FDV43', 'FDD22', 'FDY40', 'FDN31', 'FDX39', 'FDE39', 'DRI11', 'FDB41', 'FDR37', 'NCO17', 'FDS52', 'FDD59', 'DRD12', 'FDC28', 'FDV44', 'FDW27', 'FDO24', 'NCO42', 'NCS06', 'NCQ06', 'FDV48', 'NCW17', 'FDP48', 'NCN18', 'DRI51', 'FDV02', 'FDJ21', 'FDT59', 'FDU45', 'FDS48', 'FDM44', 'NCP29', 'FDR28', 'DRH51', 'FDU12', 'FDQ28', 'FDT49', 'DRK47', 'FDM03', 'DRH11', 'FDP27', 'FDB59', 'FDQ47', 'FDE20', 'FDM15', 'FDB29', 'FDP28', 'FDH60', 'NCF06', 'NCW05', 'NCL29', 'FDT55', 'FDY12', 'FDK45', 'FDA09', 'FDT24', 'FDZ43', 'FDA37', 'NCF42', 'NCD30', 'NCZ54', 'FDS51', 'DRC27', 'NCW30', 'FDS32', 'FDE21', 'NCO06', 'DRM35', 'NCR30', 'FDX01', 'DRG36', 'FDH46', 'FDF34', 'FDD45', 'FDQ07', 'FDR40', 'DRE48', 'NCI43', 'FDK38', 'DRI25', 'FDG21', 'NCM17', 'DRE60', 'FDA46', 'FDI35', 'FDM24', 'FDC38', 'FDD58', 'FDJ10', 'FDK33', 'NCM18', 'FDZ50', 'FDR39', 'FDX59', 'NCH06', 'FDQ27', 'NCG54', 'FDQ22', 'FDE10', 'FDF10', 'FDI05', 'FDB32', 'FDM28', 'FDN10', 'NCD43', 'NCB30', 'DRK59', 'FDB16', 'FDP39', 'DRE25', 'FDM10', 'DRL59', 'NCX41', 'FDC09', 'DRO47', 'FDM56', 'NCR53', 'FDT44', 'FDZ01', 'FDE36', 'FDV16', 'NCB06', 'FDQ40', 'FDS49', 'FDV49', 'FDT27', 'FDV60', 'FDT36', 'FDB04', 'FDX47', 'FDL34', 'FDK15', 'FDH24', 'FDI52', 'FDG47', 'NCO54', 'DRK13', 'FDQ13', 'FDH17', 'FDA20', 'FDJ41', 'NCN06', 'NCH18', 'FDI36', 'FDQ57', 'FDD39', 'FDU44', 'FDH31', 'FDY45', 'FDE14', 'FDO39', 'FDM38', 'FDK04', 'DRD01', 'NCQ54', 'FDO40', 'FDM20', 'NCH55', 'NCZ06', 'NCC42', 'NCW06', 'FDW46', 'FDX25', 'FDB51', 'FDU25', 'FDK02', 'FDF57', 'NCI42', 'FDZ28', 'FDX20', 'FDO50', 'FDR12', 'FDN01', 'FDT09', 'FDY13', 'FDS24', 'NCY18', 'FDP19', 'FDW33', 'FDA45', 'NCM43', 'DRD15', 'DRJ25', 'FDJ15', 'FDF05', 'FDY43', 'DRN35', 'FDS43', 'FDE24', 'NCH07', 'NCQ05', 'NCM29', 'FDT60', 'DRM11', 'FDX21', 'FDV35', 'FDW60', 'FDD44', 'FDI24', 'FDX35', 'FDY10', 'DRA12', 'FDC50', 'FDA36', 'FDT07', 'NCC43', 'FDL56', 'FDE11', 'NCO30', 'FDL15', 'DRJ11', 'DRG03', 'FDU15', 'NCE43', 'FDL57', 'FDZ57', 'FDX60', 'FDO22', 'FDS02', 'NCL31', 'FDE04', 'DRD25', 'FDH58', 'FDT52', 'FDE08', 'FDM45', 'FDX23', 'FDI09', 'FDN02', 'NCL53', 'NCV05', 'FDL43', 'FDU48', 'FDA13', 'FDC03', 'FDW43', 'NCP43', 'FDS27', 'FDQ14', 'FDY50', 'FDF45', 'FDY21', 'FDB36', 'FDB20', 'NCO14', 'FDR15', 'FDO38', 'NCT30', 'DRN47', 'FDN16', 'NCP02', 'NCE55', 'NCN26', 'FDI15', 'FDF47', 'NCI18', 'FDW15', 'DRG37', 'FDD33', 'FDH38', 'FDU02', 'NCI31', 'FDG35', 'FDJ16', 'FDH08', 'FDQ12', 'FDS14', 'FDB10', 'FDY44', 'FDW59', 'FDT03', 'FDF59', 'FDZ37', 'FDX15', 'NCS38', 'FDV13', 'FDW48', 'DRH01', 'DRK12', 'FDF11', 'FDD29', 'NCM26', 'FDO44', 'FDL04', 'FDI45', 'FDH28', 'FDF38', 'FDU23', 'FDT58', 'FDR47', 'NCZ41', 'FDU35', 'NCQ17', 'FDS35', 'FDM39', 'NCP42', 'NCC07', 'NCJ42', 'FDP38', 'FDW16', 'FDV19', 'FDO20', 'FDT23', 'FDR49', 'FDA51', 'FDC23', 'FDS09', 'NCY42', 'FDZ38', 'FDG10', 'NCX17', 'NCP30', 'FDV24', 'FDG46', 'NCQ42', 'DRH23', 'FDA16', 'FDI40', 'FDK22', 'FDJ26', 'FDW03', 'FDA32', 'FDN27', 'NCK19', 'FDR35', 'FDC45', 'NCS29', 'FDA11', 'NCU30', 'FDX16', 'FDS20', 'DRJ24', 'FDA03', 'FDC46', 'FDW38', 'FDP11', 'FDI60', 'FDE09', 'NCF43', 'FDR31', 'FDX43', 'NCB07', 'DRN36', 'DRF51', 'FDZ55', 'FDW09', 'FDQ58', 'FDL58', 'DRI37', 'FDS12', 'NCN19', 'FDY07', 'FDT13', 'FDJ32', 'FDQ01', 'NCU17', 'DRB25', 'FDO36', 'FDF46', 'FDO19', 'FDB58', 'DRK37', 'FDL33', 'FDX11', 'FDX14', 'DRH39', 'NCQ43', 'FDR08', 'FDI53', 'DRA24', 'FDM14', 'FDY28', 'FDM22', 'FDR01', 'FDB08', 'FDQ59', 'FDN20', 'DRH59', 'FDQ20', 'FDH26', 'NCE42', 'FDD09', 'FDP08', 'DRB01', 'FDL32', 'NCO41', 'DRJ39', 'FDA21', 'DRF25', 'FDM50', 'FDT37', 'DRB13', 'FDA58', 'NCS05', 'FDS39', 'FDV31', 'FDX58', 'FDK58', 'FDB47', 'FDZ13', 'FDQ09', 'FDG09', 'FDC16', 'FDP22', 'FDZ07', 'FDH12', 'NCX54', 'FDX46', 'FDT14', 'FDP44', 'FDY51', 'FDB49', 'NCL55', 'FDI41', 'FDG52', 'FDW25', 'FDX50', 'DRL60', 'FDR25', 'FDN25', 'DRE37', 'FDT08', 'FDN03', 'NCF30', 'FDQ46', 'DRO59', 'FDW35', 'FDP58', 'DRL49', 'FDW32', 'FDX10', 'FDL12', 'FDP15', 'NCU05', 'DRN37', 'NCP14', 'NCQ02', 'NCL30', 'FDR09', 'NCA41', 'NCH54', 'NCO26', 'FDR02', 'FDZ21', 'FDK51', 'FDK08', 'FDU52', 'NCL05', 'NCM30', 'FDL51', 'FDU56', 'FDX37', 'FDS60', 'FDU16', 'FDQ24', 'FDE46', 'FDW28', 'FDE35', 'FDW21', 'FDZ19', 'NCT53', 'NCW41', 'NCN30', 'NCX06', 'FDP32', 'NCN05', 'FDZ58', 'NCR29', 'FDK10', 'FDH19', 'NCJ18', 'FDF58', 'FDZ04', 'FDW58', 'FDZ40', 'NCE19', 'NCH43', 'FDV39', 'FDR19', 'FDK40', 'FDR48', 'DRJ47', 'FDG12', 'NCK53', 'FDA26', 'FDI50', 'FDO12', 'DRI39', 'FDM36', 'FDL08', 'FDV34', 'FDK20', 'FDJ36', 'NCT18', 'NCP54', 'DRI49', 'FDJ57', 'FDX13', 'FDZ56', 'NCQ41', 'FDM08', 'FDV27', 'FDX55', 'FDV26', 'FDW44', 'FDX09', 'FDI34', 'NCL17', 'FDT57', 'NCC18', 'NCE07', 'FDX03', 'NCA05', 'FDW01', 'FDZ10', 'FDT25', 'NCB18', 'NCC54', 'FDF28', 'FDV58', 'FDO46', 'FDM58', 'NCJ19', 'FDW55', 'DRF60', 'FDL28', 'NCG18', 'NCA42', 'DRF23', 'FDY24', 'NCB31', 'FDF35', 'FDL14', 'FDO57', 'FDD50', 'FDE47', 'FDL02', 'FDH56', 'FDM60', 'FDL16', 'FDD05', 'DRN11', 'FDX31', 'FDK41', 'FDT47', 'NCK54', 'FDU60', 'FDF39', 'FDW13', 'NCO55', 'FDS26', 'FDO23', 'FDA38', 'FDO04', 'FDK43', 'FDO16', 'DRC13', 'DRG48', 'NCL18', 'FDY56', 'FDL20', 'FDS11', 'FDQ37', 'FDX33', 'FDA56', 'FDU47', 'FDV11', 'FDL09', 'NCA18', 'FDA52', 'FDT02', 'FDV33', 'FDA07', 'FDN49', 'FDP21', 'FDF04', 'FDF50', 'FDG24', 'DRL37', 'FDP52', 'FDQ34', 'DRG27', 'FDF53', 'NCD31', 'FDN45', 'FDQ10', 'FDR57', 'FDJ28', 'NCL54', 'FDT19', 'FDU50', 'FDR16', 'FDW51', 'FDL52', 'DRK35', 'FDU32', 'FDK48', 'FDC22', 'FDA27', 'FDL21', 'FDJ07', 'NCR18', 'FDA55', 'FDQ08', 'NCA06', 'FDV25', 'FDZ46', 'FDX57', 'FDX45', 'FDH52', 'FDY36', 'FDU20', 'FDF16', 'NCX53', 'FDE33', 'FDN50', 'FDP49', 'FDQ55', 'FDQ52', 'FDJ52', 'FDB05', 'FDR14', 'FDR33', 'FDO49', 'FDB23', 'DRF13', 'NCG30', 'FDM21', 'NCM41', 'FDL25', 'FDX40', 'NCH30', 'NCW42', 'NCE06', 'DRC12', 'NCL06', 'FDS37', 'NCU41', 'DRC49', 'FDV22', 'NCK05', 'FDP10', 'NCU53', 'NCD18', 'FDD21', 'FDZ27', 'FDR46', 'DRH25', 'FDC04', 'FDB03', 'DRK23', 'FDY59', 'DRF36', 'FDP60', 'FDY25', 'FDA22', 'FDQ60', 'FDO56', 'FDY35', 'FDC52', 'FDQ36', 'NCF07', 'FDC29', 'FDX28', 'FDG17', 'FDL26', 'FDF20', 'FDO58', 'FDY33', 'FDP45', 'FDN56', 'FDB27', 'FDE34', 'NCZ05', 'FDT04', 'NCR41', 'FDY19', 'FDP16', 'NCO53', 'NCX30', 'FDD51', 'FDM04', 'FDD40', 'FDP51', 'FDU21', 'NCZ42', 'FDH09', 'FDY01', 'FDC51', 'FDX56', 'FDX04', 'FDL10', 'FDB12', 'FDC20', 'FDF52', 'FDD52', 'FDS15', 'FDZ25', 'FDQ56', 'FDT32', 'FDG14', 'FDC10', 'FDX48', 'FDZ09', 'FDY08', 'FDX49', 'NCR06', 'FDH33', 'DRK49', 'NCP17', 'FDF24', 'FDN15', 'FDJ60', 'FDL38', 'FDD08', 'NCB55', 'FDG34', 'FDJ44', 'FDX07', 'NCX29', 'FDF56', 'FDI32', 'FDB26', 'DRG15', 'NCE30', 'DRY23', 'FDB53', 'FDR27', 'NCZ30', 'DRJ59', 'DRM49', 'NCX18', 'FDX24', 'FDJ40', 'FDG60', 'FDS23', 'FDH50', 'NCG06', 'FDZ14', 'FDA40', 'FDH27', 'FDC56', 'FDE44', 'FDJ34', 'FDW02', 'DRK39', 'FDC47', 'FDR23', 'FDZ12', 'FDX51', 'NCV06', 'FDM27', 'DRL23', 'FDB09', 'FDP31', 'NCJ31', 'FDY46', 'FDL13', 'FDB21', 'FDO45', 'FDV28', 'FDU26', 'FDB46', 'FDK32', 'DRF48', 'FDF40', 'FDK34', 'FDW47', 'FDL39', 'FDD35', 'FDX32', 'FDD47', 'FDP37', 'DRG13', 'FDE56', 'NCY30', 'DRC25', 'FDC34', 'NCK07', 'FDS28', 'FDY38', 'FDR36', 'FDK56', 'FDQ31', 'FDL22', 'FDO60', 'FDF08', 'FDD14', 'FDH22', 'FDT43', 'FDC26', 'FDZ26', 'NCJ17', 'NCO07', 'FDJ04', 'FDT45', 'DRI03', 'FDG16', 'FDK57', 'FDO15', 'FDP33', 'FDD04', 'NCH42', 'FDS33', 'NCI55', 'DRI13', 'FDT11', 'NCR42', 'FDE41', 'FDV03', 'FDV57', 'NCG43', 'NCS30', 'FDV56', 'NCJ29', 'FDB57', 'FDD11', 'DRJ01', 'FDU39', 'FDA10', 'DRP47', 'NCY05', 'FDZ22', 'DRB48', 'FDA14', 'FDA19', 'FDR32', 'FDW31', 'FDZ45', 'NCJ30', 'FDN46', 'FDS08', 'FDE26', 'FDO03', 'FDO13', 'FDJ09', 'FDR59', 'DRH13', 'FDQ25', 'FDW24', 'DRE01', 'FDE23', 'FDU11', 'NCV17', 'FDJ46', 'DRF01', 'DRE12', 'NCP55', 'FDU27', 'NCC31', 'FDR22', 'NCE18', 'NCW18', 'FDB38', 'NCI17', 'FDX27', 'FDR56', 'FDN51', 'DRE27', 'FDL24', 'FDT39', 'NCB43', 'DRF27', 'NCU29', 'FDC35', 'FDA57', 'FDZ08', 'FDY22', 'FDV47', 'FDA35', 'FDQ51', 'FDW20', 'FDP25', 'NCD42', 'DRJ37', 'DRH03', 'NCU54', 'DRN59', 'FDK25', 'NCP53', 'FDN44', 'FDD28', 'FDK21', 'FDS50', 'NCY41', 'FDC14', 'NCU42', 'FDT16', 'FDO51', 'FDH32', 'NCV54', 'FDA31', 'FDP56', 'FDS58', 'FDV01', 'FDM32', 'FDM34', 'FDV10', 'FDU57', 'FDO32', 'NCA30', 'FDQ39', 'DRO35', 'FDG50', 'FDS03', 'NCR38', 'FDY20', 'FDK60', 'FDF02', 'DRD24', 'FDP26', 'FDD32', 'FDX08', 'FDS47', 'FDP12', 'NCJ05', 'FDQ48', 'FDP07', 'FDX26', 'DRM59', 'DRJ51', 'NCK29', 'FDB50', 'FDO11', 'FDX19', 'FDM46', 'FDT20', 'FDK52', 'FDH04', 'FDT28', 'NCM05', 'FDI57', 'FDH20', 'FDR07', 'NCI29', 'FDJ45', 'FDB60', 'NCN54', 'FDQ49', 'NCY54', 'FDZ32', 'FDH48', 'FDE40', 'FDA02', 'FDT22', 'FDN40', 'FDT51', 'FDE05', 'FDA39', 'FDR60', 'FDZ20', 'FDO37', 'FDH02', 'FDQ16', 'FDQ33', 'FDB44', 'NCC06', 'NCC19', 'FDV21', 'NCN29', 'NCL42', 'DRG01', 'FDC32', 'NCT42', 'FDD48', 'FDI22', 'FDC39', 'FDR34', 'FDC58', 'FDY34', 'DRZ11', 'FDW57', 'NCM19', 'FDQ44', 'FDY31', 'DRD13', 'FDU04', 'FDV52', 'FDW04', 'FDB40', 'NCR05', 'FDD57', 'FDF26', 'NCK06', 'FDI28', 'FDN21', 'FDY32', 'NCS54', 'FDO09', 'FDC08', 'FDL27', 'FDS44', 'FDN39', 'DRE13', 'NCT41', 'FDA44', 'FDY60', 'FDI48', 'NCV53', 'FDU40', 'DRF15', 'FDJ03', 'FDO25', 'FDE28', 'FDT56', 'FDX22', 'FDT50', 'FDC11', 'NCW53', 'DRK11', 'NCL19', 'FDY49', 'FDW11', 'FDU09', 'FDA33', 'FDS46', 'FDY15', 'FDU08', 'FDC17', 'FDS16', 'FDK16', 'FDR45', 'FDC15', 'FDI58', 'NCN55', 'DRC36', 'FDG59', 'FDL03', 'FDG44', 'NCY17', 'FDH47', 'FDK28', 'FDV04', 'FDJ55', 'FDQ32', 'FDV08', 'FDR11', 'FDM09', 'NCM54', 'NCI54', 'FDW19', 'FDD20', 'FDJ56', 'FDP20', 'FDR10', 'NCQ50', 'FDZ44', 'FDG22', 'NCP41', 'FDX52', 'FDV59', 'FDU22', 'FDR03', 'DRB24', 'FDU43', 'FDI08', 'FDL50', 'FDN57', 'FDJ20', 'FDI21', 'DRE49', 'FDZ02', 'FDE02', 'FDT01', 'FDF09', 'NCN07', 'DRH36', 'FDC02', 'FDI14', 'FDI44', 'FDZ49', 'FDZ48', 'NCR54', 'FDT34', 'FDD46', 'DRK01', 'FDI56', 'FDT12', 'FDK26', 'FDF21', 'FDM57', 'FDQ26', 'DRL35', 'NCD06', 'FDU55', 'DRD27', 'FDK50', 'FDJ02', 'FDC48', 'FDG41', 'FDN23', 'FDN13'}\n",
      "\n",
      "Item_Fat_Content --> {'Low Fat', 'LF', 'Regular', 'low fat', 'reg'}\n",
      "\n",
      "Item_Type --> {'Household', 'Fruits and Vegetables', 'Breads', 'Dairy', 'Snack Foods', 'Seafood', 'Others', 'Hard Drinks', 'Frozen Foods', 'Meat', 'Breakfast', 'Soft Drinks', 'Baking Goods', 'Health and Hygiene', 'Starchy Foods', 'Canned'}\n",
      "\n",
      "Outlet_Identifier --> {'OUT045', 'OUT049', 'OUT013', 'OUT046', 'OUT017', 'OUT019', 'OUT018', 'OUT035', 'OUT027', 'OUT010'}\n",
      "\n",
      "Outlet_Size --> {nan, 'Small', 'High', 'Medium'}\n",
      "\n",
      "Outlet_Location_Type --> {'Tier 3', 'Tier 2', 'Tier 1'}\n",
      "\n",
      "Outlet_Type --> {'Supermarket Type1', 'Supermarket Type2', 'Grocery Store', 'Supermarket Type3'}\n",
      "\n",
      "Food Types --> {'DR', 'NC', 'FD'}\n",
      "\n"
     ]
    }
   ],
   "source": [
    "obj2  = DataCleansing(train)\n",
    "obj2.uniqueCategory()"
   ]
  },
  {
   "cell_type": "code",
   "execution_count": 60,
   "metadata": {},
   "outputs": [
    {
     "name": "stdout",
     "output_type": "stream",
     "text": [
      "\n",
      "Total Rows : 8523 \n",
      "\n",
      "Column Names : Index(['Item_Identifier', 'Item_Weight', 'Item_Fat_Content', 'Item_Visibility',\n",
      "       'Item_Type', 'Item_MRP', 'Outlet_Identifier',\n",
      "       'Outlet_Establishment_Year', 'Outlet_Size', 'Outlet_Location_Type',\n",
      "       'Outlet_Type', 'Item_Outlet_Sales'],\n",
      "      dtype='object') \n",
      "\n",
      "Data Summary :  \n",
      "\n",
      "\n",
      "<class 'pandas.core.frame.DataFrame'>\n",
      "RangeIndex: 8523 entries, 0 to 8522\n",
      "Data columns (total 12 columns):\n",
      " #   Column                     Non-Null Count  Dtype  \n",
      "---  ------                     --------------  -----  \n",
      " 0   Item_Identifier            8523 non-null   object \n",
      " 1   Item_Weight                7060 non-null   float64\n",
      " 2   Item_Fat_Content           8523 non-null   object \n",
      " 3   Item_Visibility            8523 non-null   float64\n",
      " 4   Item_Type                  8523 non-null   object \n",
      " 5   Item_MRP                   8523 non-null   float64\n",
      " 6   Outlet_Identifier          8523 non-null   object \n",
      " 7   Outlet_Establishment_Year  8523 non-null   int64  \n",
      " 8   Outlet_Size                6113 non-null   object \n",
      " 9   Outlet_Location_Type       8523 non-null   object \n",
      " 10  Outlet_Type                8523 non-null   object \n",
      " 11  Item_Outlet_Sales          8523 non-null   float64\n",
      "dtypes: float64(4), int64(1), object(7)\n",
      "memory usage: 799.2+ KB\n",
      "------------------------------\n",
      "\n",
      "Null values : Item_Identifier                 0\n",
      "Item_Weight                  1463\n",
      "Item_Fat_Content                0\n",
      "Item_Visibility                 0\n",
      "Item_Type                       0\n",
      "Item_MRP                        0\n",
      "Outlet_Identifier               0\n",
      "Outlet_Establishment_Year       0\n",
      "Outlet_Size                  2410\n",
      "Outlet_Location_Type            0\n",
      "Outlet_Type                     0\n",
      "Item_Outlet_Sales               0\n",
      "dtype: int64  \n",
      " \n"
     ]
    }
   ],
   "source": [
    "obj.info()"
   ]
  },
  {
   "cell_type": "code",
   "execution_count": 5,
   "metadata": {},
   "outputs": [
    {
     "data": {
      "text/plain": [
       "Index(['Item_Identifier', 'Item_Weight', 'Item_Fat_Content', 'Item_Visibility',\n",
       "       'Item_Type', 'Item_MRP', 'Outlet_Identifier',\n",
       "       'Outlet_Establishment_Year', 'Outlet_Size', 'Outlet_Location_Type',\n",
       "       'Outlet_Type', 'Item_Outlet_Sales'],\n",
       "      dtype='object')"
      ]
     },
     "execution_count": 5,
     "metadata": {},
     "output_type": "execute_result"
    }
   ],
   "source": [
    "train.columns"
   ]
  },
  {
   "cell_type": "code",
   "execution_count": null,
   "metadata": {},
   "outputs": [],
   "source": [
    "train"
   ]
  },
  {
   "cell_type": "code",
   "execution_count": 15,
   "metadata": {},
   "outputs": [
    {
     "ename": "TypeError",
     "evalue": "function() argument 'code' must be code, not str",
     "output_type": "error",
     "traceback": [
      "\u001b[0;31m---------------------------------------------------------------------------\u001b[0m",
      "\u001b[0;31mTypeError\u001b[0m                                 Traceback (most recent call last)",
      "\u001b[0;32m<ipython-input-15-0870faec4bbb>\u001b[0m in \u001b[0;36m<module>\u001b[0;34m\u001b[0m\n\u001b[0;32m----> 1\u001b[0;31m \u001b[0;32mclass\u001b[0m \u001b[0mDataCleansing\u001b[0m\u001b[0;34m(\u001b[0m\u001b[0mpandas\u001b[0m\u001b[0;34m.\u001b[0m\u001b[0mread_csv\u001b[0m\u001b[0;34m)\u001b[0m\u001b[0;34m:\u001b[0m\u001b[0;34m\u001b[0m\u001b[0;34m\u001b[0m\u001b[0m\n\u001b[0m\u001b[1;32m      2\u001b[0m     \u001b[0;32mdef\u001b[0m \u001b[0m__init__\u001b[0m\u001b[0;34m(\u001b[0m\u001b[0mself\u001b[0m\u001b[0;34m)\u001b[0m\u001b[0;34m:\u001b[0m\u001b[0;34m\u001b[0m\u001b[0;34m\u001b[0m\u001b[0m\n\u001b[1;32m      3\u001b[0m         \u001b[0msuper\u001b[0m\u001b[0;34m(\u001b[0m\u001b[0;34m)\u001b[0m\u001b[0;34m.\u001b[0m\u001b[0m__init__\u001b[0m\u001b[0;34m(\u001b[0m\u001b[0;34m)\u001b[0m\u001b[0;34m\u001b[0m\u001b[0;34m\u001b[0m\u001b[0m\n\u001b[1;32m      4\u001b[0m         \u001b[0mprint\u001b[0m\u001b[0;34m(\u001b[0m\u001b[0;34m'dvve'\u001b[0m\u001b[0;34m)\u001b[0m\u001b[0;34m\u001b[0m\u001b[0;34m\u001b[0m\u001b[0m\n\u001b[1;32m      5\u001b[0m \u001b[0;34m\u001b[0m\u001b[0m\n",
      "\u001b[0;31mTypeError\u001b[0m: function() argument 'code' must be code, not str"
     ]
    }
   ],
   "source": [
    "class DataCleansing():\n",
    "    def __init__(self , ):\n",
    "       \n",
    "obj = DataCleansing()"
   ]
  },
  {
   "cell_type": "code",
   "execution_count": 11,
   "metadata": {},
   "outputs": [
    {
     "name": "stdout",
     "output_type": "stream",
     "text": [
      "Bird is ready\n",
      "Penguin is ready\n",
      "Penguin\n",
      "Swim faster\n",
      "Run faster\n"
     ]
    }
   ],
   "source": [
    "# parent class\n",
    "class Bird:\n",
    "    \n",
    "    def __init__(self):\n",
    "        print(\"Bird is ready\")\n",
    "\n",
    "    def whoisThis(self):\n",
    "        print(\"Bird\")\n",
    "\n",
    "    def swim(self):\n",
    "        print(\"Swim faster\")\n",
    "\n",
    "# child class\n",
    "class Penguin(Bird):\n",
    "\n",
    "    def __init__(self):\n",
    "        # call super() function\n",
    "        super().__init__()\n",
    "        print(\"Penguin is ready\")\n",
    "\n",
    "    def whoisThis(self):\n",
    "        print(\"Penguin\")\n",
    "\n",
    "    def run(self):\n",
    "        print(\"Run faster\")\n",
    "\n",
    "peggy = Penguin()\n",
    "peggy.whoisThis()\n",
    "peggy.swim()\n",
    "peggy.run()"
   ]
  },
  {
   "cell_type": "code",
   "execution_count": null,
   "metadata": {},
   "outputs": [],
   "source": [
    "for i in train.dtype =='O':\n",
    "    set()"
   ]
  }
 ],
 "metadata": {
  "kernelspec": {
   "display_name": "Python 3",
   "language": "python",
   "name": "python3"
  },
  "language_info": {
   "codemirror_mode": {
    "name": "ipython",
    "version": 3
   },
   "file_extension": ".py",
   "mimetype": "text/x-python",
   "name": "python",
   "nbconvert_exporter": "python",
   "pygments_lexer": "ipython3",
   "version": "3.8.3"
  }
 },
 "nbformat": 4,
 "nbformat_minor": 4
}
